{
 "cells": [
  {
   "cell_type": "markdown",
   "metadata": {},
   "source": [
    "Started mongodb using the command\n",
    "mongod --dbpath ~/data/db\n",
    "\n",
    "http://api.mongodb.com/python/current/tutorial.html\n",
    "\n",
    "https://www.w3schools.com/python/python_mongodb_getstarted.asp"
   ]
  },
  {
   "cell_type": "code",
   "execution_count": 43,
   "metadata": {},
   "outputs": [
    {
     "name": "stdout",
     "output_type": "stream",
     "text": [
      "Mongo version 3.8.0\n"
     ]
    }
   ],
   "source": [
    "import os\n",
    "import pandas as pd\n",
    "import numpy as np\n",
    "from IPython.core.display import display, HTML\n",
    "import pymongo\n",
    "from pymongo import MongoClient\n",
    "print ('Mongo version', pymongo.__version__)\n",
    "client = MongoClient('0.0.0.0', 27017)\n",
    "db = client.test\n",
    "collection = db.people"
   ]
  },
  {
   "cell_type": "code",
   "execution_count": 44,
   "metadata": {},
   "outputs": [
    {
     "name": "stdout",
     "output_type": "stream",
     "text": [
      "Collection(Database(MongoClient(host=['0.0.0.0:27017'], document_class=dict, tz_aware=False, connect=True), 'test'), 'people')\n"
     ]
    }
   ],
   "source": [
    "print(db.people)"
   ]
  },
  {
   "cell_type": "code",
   "execution_count": 45,
   "metadata": {},
   "outputs": [],
   "source": [
    "import datetime\n",
    "post = {\"author\": \"Mike\",\n",
    "\"text\": \"My first blog post!\",\n",
    "\"tags\": [\"mongodb\", \"python\", \"pymongo\"],\n",
    "\"date\": datetime.datetime.utcnow()}"
   ]
  },
  {
   "cell_type": "code",
   "execution_count": 46,
   "metadata": {},
   "outputs": [
    {
     "name": "stdout",
     "output_type": "stream",
     "text": [
      "{'author': 'Mike', 'text': 'My first blog post!', 'tags': ['mongodb', 'python', 'pymongo'], 'date': datetime.datetime(2019, 6, 13, 21, 9, 35, 219173)}\n"
     ]
    }
   ],
   "source": [
    "print(post)"
   ]
  },
  {
   "cell_type": "code",
   "execution_count": 47,
   "metadata": {},
   "outputs": [
    {
     "data": {
      "text/plain": [
       "ObjectId('5d02bb94016ab3af674392bc')"
      ]
     },
     "execution_count": 47,
     "metadata": {},
     "output_type": "execute_result"
    }
   ],
   "source": [
    "posts = db.posts\n",
    "post_id = posts.insert_one(post).inserted_id\n",
    "post_id"
   ]
  },
  {
   "cell_type": "code",
   "execution_count": 48,
   "metadata": {},
   "outputs": [
    {
     "data": {
      "text/plain": [
       "['posts']"
      ]
     },
     "execution_count": 48,
     "metadata": {},
     "output_type": "execute_result"
    }
   ],
   "source": [
    "db.list_collection_names()"
   ]
  },
  {
   "cell_type": "code",
   "execution_count": 49,
   "metadata": {},
   "outputs": [
    {
     "name": "stderr",
     "output_type": "stream",
     "text": [
      "/Users/mikegriffiths/anaconda3/lib/python3.7/site-packages/ipykernel_launcher.py:2: DeprecationWarning: count is deprecated. Use estimated_document_count or count_documents instead. Please note that $where must be replaced by $expr, $near must be replaced by $geoWithin with $center, and $nearSphere must be replaced by $geoWithin with $centerSphere\n",
      "  \n"
     ]
    },
    {
     "data": {
      "text/plain": [
       "2"
      ]
     },
     "execution_count": 49,
     "metadata": {},
     "output_type": "execute_result"
    }
   ],
   "source": [
    "dataentry=db.posts.find({})\n",
    "db.posts.count()"
   ]
  },
  {
   "cell_type": "code",
   "execution_count": 13,
   "metadata": {},
   "outputs": [
    {
     "name": "stdout",
     "output_type": "stream",
     "text": [
      "<pymongo.cursor.Cursor object at 0x10ef22c18>\n"
     ]
    }
   ],
   "source": [
    "print(dataentry)"
   ]
  },
  {
   "cell_type": "code",
   "execution_count": 15,
   "metadata": {},
   "outputs": [
    {
     "name": "stdout",
     "output_type": "stream",
     "text": [
      "{'_id': ObjectId('5d00a3aa016ab3af674392b5'),\n",
      " 'author': 'Mike',\n",
      " 'date': datetime.datetime(2019, 6, 12, 7, 1, 39, 576000),\n",
      " 'tags': ['mongodb', 'python', 'pymongo'],\n",
      " 'text': 'My first blog post!'}\n"
     ]
    }
   ],
   "source": [
    "import pprint\n",
    "pprint.pprint(posts.find_one())"
   ]
  },
  {
   "cell_type": "code",
   "execution_count": 18,
   "metadata": {},
   "outputs": [
    {
     "name": "stdout",
     "output_type": "stream",
     "text": [
      "<pymongo.cursor.Cursor object at 0x11e90ff98>\n"
     ]
    }
   ],
   "source": [
    "pprint.pprint(dataentry)"
   ]
  },
  {
   "cell_type": "code",
   "execution_count": 25,
   "metadata": {},
   "outputs": [
    {
     "name": "stdout",
     "output_type": "stream",
     "text": [
      "<pymongo.cursor.Cursor object at 0x11e9c2cf8>\n",
      "<pymongo.cursor.Cursor object at 0x11e9c2cc0>\n"
     ]
    }
   ],
   "source": [
    "#objectid=ObjectId('5d00a3aa016ab3af674392b5')\n",
    "pprint.pprint(posts.find({\"_id\":post_id}))\n",
    "pprint.pprint(posts.find({\"author\":\"Mike\"}))"
   ]
  },
  {
   "cell_type": "code",
   "execution_count": 28,
   "metadata": {},
   "outputs": [],
   "source": [
    "for x in posts.find({\"author\":\"Mike\"}):\n",
    "    print(x)"
   ]
  },
  {
   "cell_type": "code",
   "execution_count": 66,
   "metadata": {},
   "outputs": [],
   "source": [
    "import json\n",
    "\n",
    "\n",
    "\n",
    "\n",
    "with open('data/dummyData.json') as json_file:\n",
    "    data=json_file.read()\n",
    "    \n",
    "    obj = json.loads(data)\n",
    "#    for p in data['Name']:\n",
    "#        print('Name: ' + p['Name'])\n",
    "#        print('Age: ' + p['Age'])\n",
    "#        print('Country: ' + p['Country'])\n",
    "#        print('Location: ' + p['Location'])\n",
    "#        print('')"
   ]
  },
  {
   "cell_type": "code",
   "execution_count": 67,
   "metadata": {},
   "outputs": [
    {
     "name": "stdout",
     "output_type": "stream",
     "text": [
      "{'people': [{'Name': 'Quinn, Alfonso Y.', 'Age': 61, 'Country': 'Northern Mariana Islands', 'Location': '-20.77447, -11.73429'}, {'Name': 'Dominguez, Jasmine S.', 'Age': 31, 'Country': 'Comoros', 'Location': '-61.56115, -147.43152'}, {'Name': 'Potts, Destiny J.', 'Age': 24, 'Country': 'Nicaragua', 'Location': '-54.60926, 126.32675'}, {'Name': 'Morgan, Tucker S.', 'Age': 41, 'Country': 'Grenada', 'Location': '29.92717, 169.26014'}, {'Name': 'Mcintyre, Caesar U.', 'Age': 40, 'Country': 'United States', 'Location': '-25.48981, 42.39013'}]}\n"
     ]
    }
   ],
   "source": [
    "print(obj)\n",
    "\n",
    "\n",
    "#print(data)"
   ]
  },
  {
   "cell_type": "code",
   "execution_count": 77,
   "metadata": {},
   "outputs": [
    {
     "data": {
      "text/plain": [
       "{'Name': 'Potts, Destiny J.',\n",
       " 'Age': 24,\n",
       " 'Country': 'Nicaragua',\n",
       " 'Location': '-54.60926, 126.32675'}"
      ]
     },
     "execution_count": 77,
     "metadata": {},
     "output_type": "execute_result"
    }
   ],
   "source": [
    "obj['people'][2]"
   ]
  },
  {
   "cell_type": "code",
   "execution_count": 79,
   "metadata": {},
   "outputs": [
    {
     "name": "stdout",
     "output_type": "stream",
     "text": [
      "Northern Mariana Islands\n",
      "Comoros\n",
      "Nicaragua\n",
      "Grenada\n",
      "United States\n"
     ]
    }
   ],
   "source": [
    "for item in obj['people']:\n",
    "    print(item['Country'])"
   ]
  },
  {
   "cell_type": "code",
   "execution_count": 80,
   "metadata": {},
   "outputs": [],
   "source": [
    "collection = db.countries\n",
    "for item in obj['people']:\n",
    "    country = {\"Name\": item['Name'],\"Age\": item['Age'],\"Country\": item['Country'],\"Location\": item['Location']}\n",
    "    country_id = collection.insert_one(country).inserted_id\n",
    "    \n"
   ]
  },
  {
   "cell_type": "code",
   "execution_count": 81,
   "metadata": {},
   "outputs": [
    {
     "data": {
      "text/plain": [
       "['posts', 'countries']"
      ]
     },
     "execution_count": 81,
     "metadata": {},
     "output_type": "execute_result"
    }
   ],
   "source": [
    "db.list_collection_names()"
   ]
  },
  {
   "cell_type": "code",
   "execution_count": 83,
   "metadata": {},
   "outputs": [
    {
     "name": "stdout",
     "output_type": "stream",
     "text": [
      "{'_id': ObjectId('5d02c780016ab3af674392bd'), 'Name': 'Quinn, Alfonso Y.', 'Age': 61, 'Country': 'Northern Mariana Islands', 'Location': '-20.77447, -11.73429'}\n",
      "{'_id': ObjectId('5d02c780016ab3af674392be'), 'Name': 'Dominguez, Jasmine S.', 'Age': 31, 'Country': 'Comoros', 'Location': '-61.56115, -147.43152'}\n",
      "{'_id': ObjectId('5d02c780016ab3af674392bf'), 'Name': 'Potts, Destiny J.', 'Age': 24, 'Country': 'Nicaragua', 'Location': '-54.60926, 126.32675'}\n",
      "{'_id': ObjectId('5d02c780016ab3af674392c0'), 'Name': 'Morgan, Tucker S.', 'Age': 41, 'Country': 'Grenada', 'Location': '29.92717, 169.26014'}\n",
      "{'_id': ObjectId('5d02c780016ab3af674392c1'), 'Name': 'Mcintyre, Caesar U.', 'Age': 40, 'Country': 'United States', 'Location': '-25.48981, 42.39013'}\n"
     ]
    }
   ],
   "source": [
    "for x in collection.find({}):\n",
    "    print(x)"
   ]
  },
  {
   "cell_type": "code",
   "execution_count": 90,
   "metadata": {},
   "outputs": [
    {
     "name": "stdout",
     "output_type": "stream",
     "text": [
      "{'_id': ObjectId('5d02c780016ab3af674392bf'), 'Name': 'Potts, Destiny J.', 'Age': 24, 'Country': 'Nicaragua', 'Location': '-54.60926, 126.32675'}\n"
     ]
    }
   ],
   "source": [
    "for x in collection.find({\"Country\":\"Nicaragua\"}):\n",
    "    print(x)"
   ]
  },
  {
   "cell_type": "code",
   "execution_count": null,
   "metadata": {},
   "outputs": [],
   "source": []
  }
 ],
 "metadata": {
  "kernelspec": {
   "display_name": "Python 3",
   "language": "python",
   "name": "python3"
  },
  "language_info": {
   "codemirror_mode": {
    "name": "ipython",
    "version": 3
   },
   "file_extension": ".py",
   "mimetype": "text/x-python",
   "name": "python",
   "nbconvert_exporter": "python",
   "pygments_lexer": "ipython3",
   "version": "3.7.3"
  }
 },
 "nbformat": 4,
 "nbformat_minor": 2
}
