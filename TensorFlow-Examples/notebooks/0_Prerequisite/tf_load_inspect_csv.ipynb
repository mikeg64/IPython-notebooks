{
 "cells": [
  {
   "cell_type": "code",
   "execution_count": 1,
   "metadata": {},
   "outputs": [],
   "source": [
    "#from __future__ import absolute_import, division, print_function, unicode_literals\n",
    "from __future__ import absolute_import, division, print_function\n",
    "import numpy as np\n",
    "import tensorflow as tf\n",
    "#import tensorflow.contrib.eager as tfe\n",
    "import pandas as pd\n",
    "\n"
   ]
  },
  {
   "cell_type": "markdown",
   "metadata": {},
   "source": [
    "### What is TensorFlow's Eager API ?\n",
    "\n",
    "*Eager execution is an imperative, define-by-run interface where operations are\n",
    "executed immediately as they are called from Python. This makes it easier to\n",
    "get started with TensorFlow, and can make research and development more\n",
    "intuitive. A vast majority of the TensorFlow API remains the same whether eager\n",
    "execution is enabled or not. As a result, the exact same code that constructs\n",
    "TensorFlow graphs (e.g. using the layers API) can be executed imperatively\n",
    "by using eager execution. Conversely, most models written with Eager enabled\n",
    "can be converted to a graph that can be further optimized and/or extracted\n",
    "for deployment in production without changing code. - Rajat Monga*\n",
    "\n",
    "More info: https://research.googleblog.com/2017/10/eager-execution-imperative-define-by.html"
   ]
  },
  {
   "cell_type": "code",
   "execution_count": 2,
   "metadata": {},
   "outputs": [
    {
     "name": "stdout",
     "output_type": "stream",
     "text": [
      "Setting Eager mode...\n",
      "\n",
      "WARNING: The TensorFlow contrib module will not be included in TensorFlow 2.0.\n",
      "For more information, please see:\n",
      "  * https://github.com/tensorflow/community/blob/master/rfcs/20180907-contrib-sunset.md\n",
      "  * https://github.com/tensorflow/addons\n",
      "If you depend on functionality not listed there, please file an issue.\n",
      "\n"
     ]
    }
   ],
   "source": [
    "#this section needed to enable iteration over tensor flow dataset\n",
    "\n",
    "# Set Eager API\n",
    "print(\"Setting Eager mode...\")\n",
    "tf.enable_eager_execution()\n",
    "tfe = tf.contrib.eager"
   ]
  },
  {
   "cell_type": "code",
   "execution_count": 3,
   "metadata": {},
   "outputs": [],
   "source": [
    "#loading a csv data file into a pandas data frame"
   ]
  },
  {
   "cell_type": "code",
   "execution_count": 4,
   "metadata": {},
   "outputs": [],
   "source": [
    "test_file_path='mtcars.csv'"
   ]
  },
  {
   "cell_type": "code",
   "execution_count": 23,
   "metadata": {},
   "outputs": [],
   "source": [
    "cars = pd.read_csv(test_file_path)\n",
    "yv=cars['mpg'].to_numpy()\n",
    "xv=cars['hp'].to_numpy()\n",
    "cars.columns = ['car_names','mpg','cyl','disp', 'hp', 'drat', 'wt', 'qsec', 'vs', 'am', 'gear', 'carb']\n",
    "cars.index = cars.car_names"
   ]
  },
  {
   "cell_type": "code",
   "execution_count": 24,
   "metadata": {},
   "outputs": [
    {
     "name": "stdout",
     "output_type": "stream",
     "text": [
      "<class 'pandas.core.series.Series'>\n",
      "[21.  21.  22.8 21.4 18.7 18.1 14.3 24.4 22.8 19.2 17.8 16.4 17.3 15.2\n",
      " 10.4 10.4 14.7 32.4 30.4 33.9 21.5 15.5 15.2 13.3 19.2 27.3 26.  30.4\n",
      " 15.8 19.7 15.  21.4]\n"
     ]
    }
   ],
   "source": [
    "print(type(xv))\n",
    "print(yv)"
   ]
  },
  {
   "cell_type": "code",
   "execution_count": 6,
   "metadata": {},
   "outputs": [
    {
     "data": {
      "text/plain": [
       "car_names     object\n",
       "mpg          float64\n",
       "cyl            int64\n",
       "disp         float64\n",
       "hp             int64\n",
       "drat         float64\n",
       "wt           float64\n",
       "qsec         float64\n",
       "vs             int64\n",
       "am             int64\n",
       "gear           int64\n",
       "carb           int64\n",
       "dtype: object"
      ]
     },
     "execution_count": 6,
     "metadata": {},
     "output_type": "execute_result"
    }
   ],
   "source": [
    "cars.dtypes"
   ]
  },
  {
   "cell_type": "code",
   "execution_count": 7,
   "metadata": {},
   "outputs": [],
   "source": [
    "cars['car_names'] = pd.Categorical(cars['car_names'])\n",
    "cars['car_names'] = cars.car_names.cat.codes"
   ]
  },
  {
   "cell_type": "code",
   "execution_count": 8,
   "metadata": {},
   "outputs": [],
   "source": [
    "mpg = cars.pop('mpg')"
   ]
  },
  {
   "cell_type": "code",
   "execution_count": 16,
   "metadata": {},
   "outputs": [
    {
     "name": "stdout",
     "output_type": "stream",
     "text": [
      "21.4\n",
      "car_names\n",
      "Mazda RX4              21.0\n",
      "Mazda RX4 Wag          21.0\n",
      "Datsun 710             22.8\n",
      "Hornet 4 Drive         21.4\n",
      "Hornet Sportabout      18.7\n",
      "Valiant                18.1\n",
      "Duster 360             14.3\n",
      "Merc 240D              24.4\n",
      "Merc 230               22.8\n",
      "Merc 280               19.2\n",
      "Merc 280C              17.8\n",
      "Merc 450SE             16.4\n",
      "Merc 450SL             17.3\n",
      "Merc 450SLC            15.2\n",
      "Cadillac Fleetwood     10.4\n",
      "Lincoln Continental    10.4\n",
      "Chrysler Imperial      14.7\n",
      "Fiat 128               32.4\n",
      "Honda Civic            30.4\n",
      "Toyota Corolla         33.9\n",
      "Toyota Corona          21.5\n",
      "Dodge Challenger       15.5\n",
      "AMC Javelin            15.2\n",
      "Camaro Z28             13.3\n",
      "Pontiac Firebird       19.2\n",
      "Fiat X1-9              27.3\n",
      "Porsche 914-2          26.0\n",
      "Lotus Europa           30.4\n",
      "Ford Pantera L         15.8\n",
      "Ferrari Dino           19.7\n",
      "Maserati Bora          15.0\n",
      "Volvo 142E             21.4\n",
      "Name: mpg, dtype: float64\n"
     ]
    },
    {
     "ename": "KeyError",
     "evalue": "'mpg'",
     "output_type": "error",
     "traceback": [
      "\u001b[0;31m---------------------------------------------------------------------------\u001b[0m",
      "\u001b[0;31mKeyError\u001b[0m                                  Traceback (most recent call last)",
      "\u001b[0;32m/opt/conda/lib/python3.7/site-packages/pandas/core/indexes/base.py\u001b[0m in \u001b[0;36mget_loc\u001b[0;34m(self, key, method, tolerance)\u001b[0m\n\u001b[1;32m   2656\u001b[0m             \u001b[0;32mtry\u001b[0m\u001b[0;34m:\u001b[0m\u001b[0;34m\u001b[0m\u001b[0;34m\u001b[0m\u001b[0m\n\u001b[0;32m-> 2657\u001b[0;31m                 \u001b[0;32mreturn\u001b[0m \u001b[0mself\u001b[0m\u001b[0;34m.\u001b[0m\u001b[0m_engine\u001b[0m\u001b[0;34m.\u001b[0m\u001b[0mget_loc\u001b[0m\u001b[0;34m(\u001b[0m\u001b[0mkey\u001b[0m\u001b[0;34m)\u001b[0m\u001b[0;34m\u001b[0m\u001b[0;34m\u001b[0m\u001b[0m\n\u001b[0m\u001b[1;32m   2658\u001b[0m             \u001b[0;32mexcept\u001b[0m \u001b[0mKeyError\u001b[0m\u001b[0;34m:\u001b[0m\u001b[0;34m\u001b[0m\u001b[0;34m\u001b[0m\u001b[0m\n",
      "\u001b[0;32mpandas/_libs/index.pyx\u001b[0m in \u001b[0;36mpandas._libs.index.IndexEngine.get_loc\u001b[0;34m()\u001b[0m\n",
      "\u001b[0;32mpandas/_libs/index.pyx\u001b[0m in \u001b[0;36mpandas._libs.index.IndexEngine.get_loc\u001b[0;34m()\u001b[0m\n",
      "\u001b[0;32mpandas/_libs/hashtable_class_helper.pxi\u001b[0m in \u001b[0;36mpandas._libs.hashtable.PyObjectHashTable.get_item\u001b[0;34m()\u001b[0m\n",
      "\u001b[0;32mpandas/_libs/hashtable_class_helper.pxi\u001b[0m in \u001b[0;36mpandas._libs.hashtable.PyObjectHashTable.get_item\u001b[0;34m()\u001b[0m\n",
      "\u001b[0;31mKeyError\u001b[0m: 'mpg'",
      "\nDuring handling of the above exception, another exception occurred:\n",
      "\u001b[0;31mKeyError\u001b[0m                                  Traceback (most recent call last)",
      "\u001b[0;32m<ipython-input-16-279aa3abb005>\u001b[0m in \u001b[0;36m<module>\u001b[0;34m\u001b[0m\n\u001b[1;32m      1\u001b[0m \u001b[0mprint\u001b[0m\u001b[0;34m(\u001b[0m\u001b[0mmpg\u001b[0m\u001b[0;34m[\u001b[0m\u001b[0;36m3\u001b[0m\u001b[0;34m]\u001b[0m\u001b[0;34m)\u001b[0m\u001b[0;34m\u001b[0m\u001b[0;34m\u001b[0m\u001b[0m\n\u001b[1;32m      2\u001b[0m \u001b[0mprint\u001b[0m\u001b[0;34m(\u001b[0m\u001b[0mmpg\u001b[0m\u001b[0;34m)\u001b[0m\u001b[0;34m\u001b[0m\u001b[0;34m\u001b[0m\u001b[0m\n\u001b[0;32m----> 3\u001b[0;31m \u001b[0mmpg1\u001b[0m\u001b[0;34m=\u001b[0m\u001b[0;34m(\u001b[0m\u001b[0mcars\u001b[0m\u001b[0;34m[\u001b[0m\u001b[0;34m'mpg'\u001b[0m\u001b[0;34m]\u001b[0m\u001b[0;34m)\u001b[0m\u001b[0;34m\u001b[0m\u001b[0;34m\u001b[0m\u001b[0m\n\u001b[0m",
      "\u001b[0;32m/opt/conda/lib/python3.7/site-packages/pandas/core/frame.py\u001b[0m in \u001b[0;36m__getitem__\u001b[0;34m(self, key)\u001b[0m\n\u001b[1;32m   2925\u001b[0m             \u001b[0;32mif\u001b[0m \u001b[0mself\u001b[0m\u001b[0;34m.\u001b[0m\u001b[0mcolumns\u001b[0m\u001b[0;34m.\u001b[0m\u001b[0mnlevels\u001b[0m \u001b[0;34m>\u001b[0m \u001b[0;36m1\u001b[0m\u001b[0;34m:\u001b[0m\u001b[0;34m\u001b[0m\u001b[0;34m\u001b[0m\u001b[0m\n\u001b[1;32m   2926\u001b[0m                 \u001b[0;32mreturn\u001b[0m \u001b[0mself\u001b[0m\u001b[0;34m.\u001b[0m\u001b[0m_getitem_multilevel\u001b[0m\u001b[0;34m(\u001b[0m\u001b[0mkey\u001b[0m\u001b[0;34m)\u001b[0m\u001b[0;34m\u001b[0m\u001b[0;34m\u001b[0m\u001b[0m\n\u001b[0;32m-> 2927\u001b[0;31m             \u001b[0mindexer\u001b[0m \u001b[0;34m=\u001b[0m \u001b[0mself\u001b[0m\u001b[0;34m.\u001b[0m\u001b[0mcolumns\u001b[0m\u001b[0;34m.\u001b[0m\u001b[0mget_loc\u001b[0m\u001b[0;34m(\u001b[0m\u001b[0mkey\u001b[0m\u001b[0;34m)\u001b[0m\u001b[0;34m\u001b[0m\u001b[0;34m\u001b[0m\u001b[0m\n\u001b[0m\u001b[1;32m   2928\u001b[0m             \u001b[0;32mif\u001b[0m \u001b[0mis_integer\u001b[0m\u001b[0;34m(\u001b[0m\u001b[0mindexer\u001b[0m\u001b[0;34m)\u001b[0m\u001b[0;34m:\u001b[0m\u001b[0;34m\u001b[0m\u001b[0;34m\u001b[0m\u001b[0m\n\u001b[1;32m   2929\u001b[0m                 \u001b[0mindexer\u001b[0m \u001b[0;34m=\u001b[0m \u001b[0;34m[\u001b[0m\u001b[0mindexer\u001b[0m\u001b[0;34m]\u001b[0m\u001b[0;34m\u001b[0m\u001b[0;34m\u001b[0m\u001b[0m\n",
      "\u001b[0;32m/opt/conda/lib/python3.7/site-packages/pandas/core/indexes/base.py\u001b[0m in \u001b[0;36mget_loc\u001b[0;34m(self, key, method, tolerance)\u001b[0m\n\u001b[1;32m   2657\u001b[0m                 \u001b[0;32mreturn\u001b[0m \u001b[0mself\u001b[0m\u001b[0;34m.\u001b[0m\u001b[0m_engine\u001b[0m\u001b[0;34m.\u001b[0m\u001b[0mget_loc\u001b[0m\u001b[0;34m(\u001b[0m\u001b[0mkey\u001b[0m\u001b[0;34m)\u001b[0m\u001b[0;34m\u001b[0m\u001b[0;34m\u001b[0m\u001b[0m\n\u001b[1;32m   2658\u001b[0m             \u001b[0;32mexcept\u001b[0m \u001b[0mKeyError\u001b[0m\u001b[0;34m:\u001b[0m\u001b[0;34m\u001b[0m\u001b[0;34m\u001b[0m\u001b[0m\n\u001b[0;32m-> 2659\u001b[0;31m                 \u001b[0;32mreturn\u001b[0m \u001b[0mself\u001b[0m\u001b[0;34m.\u001b[0m\u001b[0m_engine\u001b[0m\u001b[0;34m.\u001b[0m\u001b[0mget_loc\u001b[0m\u001b[0;34m(\u001b[0m\u001b[0mself\u001b[0m\u001b[0;34m.\u001b[0m\u001b[0m_maybe_cast_indexer\u001b[0m\u001b[0;34m(\u001b[0m\u001b[0mkey\u001b[0m\u001b[0;34m)\u001b[0m\u001b[0;34m)\u001b[0m\u001b[0;34m\u001b[0m\u001b[0;34m\u001b[0m\u001b[0m\n\u001b[0m\u001b[1;32m   2660\u001b[0m         \u001b[0mindexer\u001b[0m \u001b[0;34m=\u001b[0m \u001b[0mself\u001b[0m\u001b[0;34m.\u001b[0m\u001b[0mget_indexer\u001b[0m\u001b[0;34m(\u001b[0m\u001b[0;34m[\u001b[0m\u001b[0mkey\u001b[0m\u001b[0;34m]\u001b[0m\u001b[0;34m,\u001b[0m \u001b[0mmethod\u001b[0m\u001b[0;34m=\u001b[0m\u001b[0mmethod\u001b[0m\u001b[0;34m,\u001b[0m \u001b[0mtolerance\u001b[0m\u001b[0;34m=\u001b[0m\u001b[0mtolerance\u001b[0m\u001b[0;34m)\u001b[0m\u001b[0;34m\u001b[0m\u001b[0;34m\u001b[0m\u001b[0m\n\u001b[1;32m   2661\u001b[0m         \u001b[0;32mif\u001b[0m \u001b[0mindexer\u001b[0m\u001b[0;34m.\u001b[0m\u001b[0mndim\u001b[0m \u001b[0;34m>\u001b[0m \u001b[0;36m1\u001b[0m \u001b[0;32mor\u001b[0m \u001b[0mindexer\u001b[0m\u001b[0;34m.\u001b[0m\u001b[0msize\u001b[0m \u001b[0;34m>\u001b[0m \u001b[0;36m1\u001b[0m\u001b[0;34m:\u001b[0m\u001b[0;34m\u001b[0m\u001b[0;34m\u001b[0m\u001b[0m\n",
      "\u001b[0;32mpandas/_libs/index.pyx\u001b[0m in \u001b[0;36mpandas._libs.index.IndexEngine.get_loc\u001b[0;34m()\u001b[0m\n",
      "\u001b[0;32mpandas/_libs/index.pyx\u001b[0m in \u001b[0;36mpandas._libs.index.IndexEngine.get_loc\u001b[0;34m()\u001b[0m\n",
      "\u001b[0;32mpandas/_libs/hashtable_class_helper.pxi\u001b[0m in \u001b[0;36mpandas._libs.hashtable.PyObjectHashTable.get_item\u001b[0;34m()\u001b[0m\n",
      "\u001b[0;32mpandas/_libs/hashtable_class_helper.pxi\u001b[0m in \u001b[0;36mpandas._libs.hashtable.PyObjectHashTable.get_item\u001b[0;34m()\u001b[0m\n",
      "\u001b[0;31mKeyError\u001b[0m: 'mpg'"
     ]
    }
   ],
   "source": [
    "print(mpg[3])\n",
    "print(mpg)\n",
    "mpg1=(cars['mpg'])"
   ]
  },
  {
   "cell_type": "code",
   "execution_count": 9,
   "metadata": {},
   "outputs": [],
   "source": [
    "#loading a pandas data frame into tensor frame\n",
    "#https://www.tensorflow.org/beta/guide/data"
   ]
  },
  {
   "cell_type": "code",
   "execution_count": 87,
   "metadata": {},
   "outputs": [],
   "source": [
    "dataset = tf.data.Dataset.from_tensor_slices((cars.values, mpg.values))"
   ]
  },
  {
   "cell_type": "code",
   "execution_count": 88,
   "metadata": {},
   "outputs": [
    {
     "name": "stdout",
     "output_type": "stream",
     "text": [
      "                     car_names  cyl   disp   hp  drat     wt   qsec  vs  am  \\\n",
      "car_names                                                                     \n",
      "Mazda RX4                   17    6  160.0  110  3.90  2.620  16.46   0   1   \n",
      "Mazda RX4 Wag               18    6  160.0  110  3.90  2.875  17.02   0   1   \n",
      "Datsun 710                   4    4  108.0   93  3.85  2.320  18.61   1   1   \n",
      "Hornet 4 Drive              12    6  258.0  110  3.08  3.215  19.44   1   0   \n",
      "Hornet Sportabout           13    8  360.0  175  3.15  3.440  17.02   0   0   \n",
      "Valiant                     30    6  225.0  105  2.76  3.460  20.22   1   0   \n",
      "Duster 360                   6    8  360.0  245  3.21  3.570  15.84   0   0   \n",
      "Merc 240D                   20    4  146.7   62  3.69  3.190  20.00   1   0   \n",
      "Merc 230                    19    4  140.8   95  3.92  3.150  22.90   1   0   \n",
      "Merc 280                    21    6  167.6  123  3.92  3.440  18.30   1   0   \n",
      "Merc 280C                   22    6  167.6  123  3.92  3.440  18.90   1   0   \n",
      "Merc 450SE                  23    8  275.8  180  3.07  4.070  17.40   0   0   \n",
      "Merc 450SL                  24    8  275.8  180  3.07  3.730  17.60   0   0   \n",
      "Merc 450SLC                 25    8  275.8  180  3.07  3.780  18.00   0   0   \n",
      "Cadillac Fleetwood           1    8  472.0  205  2.93  5.250  17.98   0   0   \n",
      "Lincoln Continental         14    8  460.0  215  3.00  5.424  17.82   0   0   \n",
      "Chrysler Imperial            3    8  440.0  230  3.23  5.345  17.42   0   0   \n",
      "Fiat 128                     8    4   78.7   66  4.08  2.200  19.47   1   1   \n",
      "Honda Civic                 11    4   75.7   52  4.93  1.615  18.52   1   1   \n",
      "Toyota Corolla              28    4   71.1   65  4.22  1.835  19.90   1   1   \n",
      "Toyota Corona               29    4  120.1   97  3.70  2.465  20.01   1   0   \n",
      "Dodge Challenger             5    8  318.0  150  2.76  3.520  16.87   0   0   \n",
      "AMC Javelin                  0    8  304.0  150  3.15  3.435  17.30   0   0   \n",
      "Camaro Z28                   2    8  350.0  245  3.73  3.840  15.41   0   0   \n",
      "Pontiac Firebird            26    8  400.0  175  3.08  3.845  17.05   0   0   \n",
      "Fiat X1-9                    9    4   79.0   66  4.08  1.935  18.90   1   1   \n",
      "Porsche 914-2               27    4  120.3   91  4.43  2.140  16.70   0   1   \n",
      "Lotus Europa                15    4   95.1  113  3.77  1.513  16.90   1   1   \n",
      "Ford Pantera L              10    8  351.0  264  4.22  3.170  14.50   0   1   \n",
      "Ferrari Dino                 7    6  145.0  175  3.62  2.770  15.50   0   1   \n",
      "Maserati Bora               16    8  301.0  335  3.54  3.570  14.60   0   1   \n",
      "Volvo 142E                  31    4  121.0  109  4.11  2.780  18.60   1   1   \n",
      "\n",
      "                     gear  carb  \n",
      "car_names                        \n",
      "Mazda RX4               4     4  \n",
      "Mazda RX4 Wag           4     4  \n",
      "Datsun 710              4     1  \n",
      "Hornet 4 Drive          3     1  \n",
      "Hornet Sportabout       3     2  \n",
      "Valiant                 3     1  \n",
      "Duster 360              3     4  \n",
      "Merc 240D               4     2  \n",
      "Merc 230                4     2  \n",
      "Merc 280                4     4  \n",
      "Merc 280C               4     4  \n",
      "Merc 450SE              3     3  \n",
      "Merc 450SL              3     3  \n",
      "Merc 450SLC             3     3  \n",
      "Cadillac Fleetwood      3     4  \n",
      "Lincoln Continental     3     4  \n",
      "Chrysler Imperial       3     4  \n",
      "Fiat 128                4     1  \n",
      "Honda Civic             4     2  \n",
      "Toyota Corolla          4     1  \n",
      "Toyota Corona           3     1  \n",
      "Dodge Challenger        3     2  \n",
      "AMC Javelin             3     2  \n",
      "Camaro Z28              3     4  \n",
      "Pontiac Firebird        3     2  \n",
      "Fiat X1-9               4     1  \n",
      "Porsche 914-2           5     2  \n",
      "Lotus Europa            5     2  \n",
      "Ford Pantera L          5     4  \n",
      "Ferrari Dino            5     6  \n",
      "Maserati Bora           5     8  \n",
      "Volvo 142E              4     2  \n"
     ]
    },
    {
     "data": {
      "text/plain": [
       "<bound method NDFrame.head of                      car_names  cyl   disp   hp  drat     wt   qsec  vs  am  \\\n",
       "car_names                                                                     \n",
       "Mazda RX4                   17    6  160.0  110  3.90  2.620  16.46   0   1   \n",
       "Mazda RX4 Wag               18    6  160.0  110  3.90  2.875  17.02   0   1   \n",
       "Datsun 710                   4    4  108.0   93  3.85  2.320  18.61   1   1   \n",
       "Hornet 4 Drive              12    6  258.0  110  3.08  3.215  19.44   1   0   \n",
       "Hornet Sportabout           13    8  360.0  175  3.15  3.440  17.02   0   0   \n",
       "Valiant                     30    6  225.0  105  2.76  3.460  20.22   1   0   \n",
       "Duster 360                   6    8  360.0  245  3.21  3.570  15.84   0   0   \n",
       "Merc 240D                   20    4  146.7   62  3.69  3.190  20.00   1   0   \n",
       "Merc 230                    19    4  140.8   95  3.92  3.150  22.90   1   0   \n",
       "Merc 280                    21    6  167.6  123  3.92  3.440  18.30   1   0   \n",
       "Merc 280C                   22    6  167.6  123  3.92  3.440  18.90   1   0   \n",
       "Merc 450SE                  23    8  275.8  180  3.07  4.070  17.40   0   0   \n",
       "Merc 450SL                  24    8  275.8  180  3.07  3.730  17.60   0   0   \n",
       "Merc 450SLC                 25    8  275.8  180  3.07  3.780  18.00   0   0   \n",
       "Cadillac Fleetwood           1    8  472.0  205  2.93  5.250  17.98   0   0   \n",
       "Lincoln Continental         14    8  460.0  215  3.00  5.424  17.82   0   0   \n",
       "Chrysler Imperial            3    8  440.0  230  3.23  5.345  17.42   0   0   \n",
       "Fiat 128                     8    4   78.7   66  4.08  2.200  19.47   1   1   \n",
       "Honda Civic                 11    4   75.7   52  4.93  1.615  18.52   1   1   \n",
       "Toyota Corolla              28    4   71.1   65  4.22  1.835  19.90   1   1   \n",
       "Toyota Corona               29    4  120.1   97  3.70  2.465  20.01   1   0   \n",
       "Dodge Challenger             5    8  318.0  150  2.76  3.520  16.87   0   0   \n",
       "AMC Javelin                  0    8  304.0  150  3.15  3.435  17.30   0   0   \n",
       "Camaro Z28                   2    8  350.0  245  3.73  3.840  15.41   0   0   \n",
       "Pontiac Firebird            26    8  400.0  175  3.08  3.845  17.05   0   0   \n",
       "Fiat X1-9                    9    4   79.0   66  4.08  1.935  18.90   1   1   \n",
       "Porsche 914-2               27    4  120.3   91  4.43  2.140  16.70   0   1   \n",
       "Lotus Europa                15    4   95.1  113  3.77  1.513  16.90   1   1   \n",
       "Ford Pantera L              10    8  351.0  264  4.22  3.170  14.50   0   1   \n",
       "Ferrari Dino                 7    6  145.0  175  3.62  2.770  15.50   0   1   \n",
       "Maserati Bora               16    8  301.0  335  3.54  3.570  14.60   0   1   \n",
       "Volvo 142E                  31    4  121.0  109  4.11  2.780  18.60   1   1   \n",
       "\n",
       "                     gear  carb  \n",
       "car_names                        \n",
       "Mazda RX4               4     4  \n",
       "Mazda RX4 Wag           4     4  \n",
       "Datsun 710              4     1  \n",
       "Hornet 4 Drive          3     1  \n",
       "Hornet Sportabout       3     2  \n",
       "Valiant                 3     1  \n",
       "Duster 360              3     4  \n",
       "Merc 240D               4     2  \n",
       "Merc 230                4     2  \n",
       "Merc 280                4     4  \n",
       "Merc 280C               4     4  \n",
       "Merc 450SE              3     3  \n",
       "Merc 450SL              3     3  \n",
       "Merc 450SLC             3     3  \n",
       "Cadillac Fleetwood      3     4  \n",
       "Lincoln Continental     3     4  \n",
       "Chrysler Imperial       3     4  \n",
       "Fiat 128                4     1  \n",
       "Honda Civic             4     2  \n",
       "Toyota Corolla          4     1  \n",
       "Toyota Corona           3     1  \n",
       "Dodge Challenger        3     2  \n",
       "AMC Javelin             3     2  \n",
       "Camaro Z28              3     4  \n",
       "Pontiac Firebird        3     2  \n",
       "Fiat X1-9               4     1  \n",
       "Porsche 914-2           5     2  \n",
       "Lotus Europa            5     2  \n",
       "Ford Pantera L          5     4  \n",
       "Ferrari Dino            5     6  \n",
       "Maserati Bora           5     8  \n",
       "Volvo 142E              4     2  >"
      ]
     },
     "execution_count": 88,
     "metadata": {},
     "output_type": "execute_result"
    }
   ],
   "source": [
    "print(cars)\n",
    "\n",
    "cars.head"
   ]
  },
  {
   "cell_type": "code",
   "execution_count": 89,
   "metadata": {},
   "outputs": [
    {
     "name": "stdout",
     "output_type": "stream",
     "text": [
      "(tf.float64, tf.float64)\n",
      "(TensorShape([Dimension(11)]), TensorShape([]))\n"
     ]
    }
   ],
   "source": [
    "\n",
    "d0=dataset.take(1)\n",
    "\n",
    "print(d0.output_types)\n",
    "\n",
    "print(d0.output_shapes)\n"
   ]
  },
  {
   "cell_type": "code",
   "execution_count": 90,
   "metadata": {},
   "outputs": [
    {
     "name": "stdout",
     "output_type": "stream",
     "text": [
      "Features: [ 17.     6.   160.   110.     3.9    2.62  16.46   0.     1.     4.\n",
      "   4.  ], Target: 21.0\n",
      "Features: [ 18.      6.    160.    110.      3.9     2.875  17.02    0.      1.\n",
      "   4.      4.   ], Target: 21.0\n",
      "Features: [  4.     4.   108.    93.     3.85   2.32  18.61   1.     1.     4.\n",
      "   1.  ], Target: 22.8\n",
      "Features: [ 12.      6.    258.    110.      3.08    3.215  19.44    1.      0.\n",
      "   3.      1.   ], Target: 21.4\n",
      "Features: [ 13.     8.   360.   175.     3.15   3.44  17.02   0.     0.     3.\n",
      "   2.  ], Target: 18.7\n",
      "Features: [ 30.     6.   225.   105.     2.76   3.46  20.22   1.     0.     3.\n",
      "   1.  ], Target: 18.1\n",
      "Features: [  6.     8.   360.   245.     3.21   3.57  15.84   0.     0.     3.\n",
      "   4.  ], Target: 14.3\n",
      "Features: [ 20.     4.   146.7   62.     3.69   3.19  20.     1.     0.     4.\n",
      "   2.  ], Target: 24.4\n",
      "Features: [ 19.     4.   140.8   95.     3.92   3.15  22.9    1.     0.     4.\n",
      "   2.  ], Target: 22.8\n",
      "Features: [ 21.     6.   167.6  123.     3.92   3.44  18.3    1.     0.     4.\n",
      "   4.  ], Target: 19.2\n",
      "Features: [ 22.     6.   167.6  123.     3.92   3.44  18.9    1.     0.     4.\n",
      "   4.  ], Target: 17.8\n",
      "here\n",
      "Features: [ 22.     6.   167.6  123.     3.92   3.44  18.9    1.     0.     4.\n",
      "   4.  ], Target: 17.8\n",
      "tf.Tensor(6.0, shape=(), dtype=float64)\n"
     ]
    }
   ],
   "source": [
    "#get 11 items\n",
    "for feat, targ in dataset.take(11):\n",
    "  print ('Features: {}, Target: {}'.format(feat, targ))\n",
    "\n",
    "print('here')\n",
    "\n",
    "\n",
    "#get the 11th item\n",
    "dsnew=dataset.skip(10)\n",
    "for feat, targ in dsnew.take(1):\n",
    "  print ('Features: {}, Target: {}'.format(feat, targ))\n",
    "\n",
    "print(feat[1])"
   ]
  },
  {
   "cell_type": "code",
   "execution_count": 91,
   "metadata": {},
   "outputs": [
    {
     "name": "stdout",
     "output_type": "stream",
     "text": [
      "(<tf.Tensor: id=2152, shape=(11,), dtype=float64, numpy=\n",
      "array([ 17.  ,   6.  , 160.  , 110.  ,   3.9 ,   2.62,  16.46,   0.  ,\n",
      "         1.  ,   4.  ,   4.  ])>, <tf.Tensor: id=2153, shape=(), dtype=float64, numpy=21.0>)\n",
      "(<tf.Tensor: id=2156, shape=(11,), dtype=float64, numpy=\n",
      "array([ 18.   ,   6.   , 160.   , 110.   ,   3.9  ,   2.875,  17.02 ,\n",
      "         0.   ,   1.   ,   4.   ,   4.   ])>, <tf.Tensor: id=2157, shape=(), dtype=float64, numpy=21.0>)\n",
      "(<tf.Tensor: id=2160, shape=(11,), dtype=float64, numpy=\n",
      "array([  4.  ,   4.  , 108.  ,  93.  ,   3.85,   2.32,  18.61,   1.  ,\n",
      "         1.  ,   4.  ,   1.  ])>, <tf.Tensor: id=2161, shape=(), dtype=float64, numpy=22.8>)\n",
      "(<tf.Tensor: id=2164, shape=(11,), dtype=float64, numpy=\n",
      "array([ 12.   ,   6.   , 258.   , 110.   ,   3.08 ,   3.215,  19.44 ,\n",
      "         1.   ,   0.   ,   3.   ,   1.   ])>, <tf.Tensor: id=2165, shape=(), dtype=float64, numpy=21.4>)\n",
      "(<tf.Tensor: id=2168, shape=(11,), dtype=float64, numpy=\n",
      "array([ 13.  ,   8.  , 360.  , 175.  ,   3.15,   3.44,  17.02,   0.  ,\n",
      "         0.  ,   3.  ,   2.  ])>, <tf.Tensor: id=2169, shape=(), dtype=float64, numpy=18.7>)\n",
      "(<tf.Tensor: id=2172, shape=(11,), dtype=float64, numpy=\n",
      "array([ 30.  ,   6.  , 225.  , 105.  ,   2.76,   3.46,  20.22,   1.  ,\n",
      "         0.  ,   3.  ,   1.  ])>, <tf.Tensor: id=2173, shape=(), dtype=float64, numpy=18.1>)\n",
      "(<tf.Tensor: id=2176, shape=(11,), dtype=float64, numpy=\n",
      "array([  6.  ,   8.  , 360.  , 245.  ,   3.21,   3.57,  15.84,   0.  ,\n",
      "         0.  ,   3.  ,   4.  ])>, <tf.Tensor: id=2177, shape=(), dtype=float64, numpy=14.3>)\n",
      "(<tf.Tensor: id=2180, shape=(11,), dtype=float64, numpy=\n",
      "array([ 20.  ,   4.  , 146.7 ,  62.  ,   3.69,   3.19,  20.  ,   1.  ,\n",
      "         0.  ,   4.  ,   2.  ])>, <tf.Tensor: id=2181, shape=(), dtype=float64, numpy=24.4>)\n",
      "(<tf.Tensor: id=2184, shape=(11,), dtype=float64, numpy=\n",
      "array([ 19.  ,   4.  , 140.8 ,  95.  ,   3.92,   3.15,  22.9 ,   1.  ,\n",
      "         0.  ,   4.  ,   2.  ])>, <tf.Tensor: id=2185, shape=(), dtype=float64, numpy=22.8>)\n",
      "(<tf.Tensor: id=2188, shape=(11,), dtype=float64, numpy=\n",
      "array([ 21.  ,   6.  , 167.6 , 123.  ,   3.92,   3.44,  18.3 ,   1.  ,\n",
      "         0.  ,   4.  ,   4.  ])>, <tf.Tensor: id=2189, shape=(), dtype=float64, numpy=19.2>)\n",
      "(<tf.Tensor: id=2192, shape=(11,), dtype=float64, numpy=\n",
      "array([ 22.  ,   6.  , 167.6 , 123.  ,   3.92,   3.44,  18.9 ,   1.  ,\n",
      "         0.  ,   4.  ,   4.  ])>, <tf.Tensor: id=2193, shape=(), dtype=float64, numpy=17.8>)\n",
      "(<tf.Tensor: id=2196, shape=(11,), dtype=float64, numpy=\n",
      "array([ 23.  ,   8.  , 275.8 , 180.  ,   3.07,   4.07,  17.4 ,   0.  ,\n",
      "         0.  ,   3.  ,   3.  ])>, <tf.Tensor: id=2197, shape=(), dtype=float64, numpy=16.4>)\n",
      "(<tf.Tensor: id=2200, shape=(11,), dtype=float64, numpy=\n",
      "array([ 24.  ,   8.  , 275.8 , 180.  ,   3.07,   3.73,  17.6 ,   0.  ,\n",
      "         0.  ,   3.  ,   3.  ])>, <tf.Tensor: id=2201, shape=(), dtype=float64, numpy=17.3>)\n",
      "(<tf.Tensor: id=2204, shape=(11,), dtype=float64, numpy=\n",
      "array([ 25.  ,   8.  , 275.8 , 180.  ,   3.07,   3.78,  18.  ,   0.  ,\n",
      "         0.  ,   3.  ,   3.  ])>, <tf.Tensor: id=2205, shape=(), dtype=float64, numpy=15.2>)\n",
      "(<tf.Tensor: id=2208, shape=(11,), dtype=float64, numpy=\n",
      "array([  1.  ,   8.  , 472.  , 205.  ,   2.93,   5.25,  17.98,   0.  ,\n",
      "         0.  ,   3.  ,   4.  ])>, <tf.Tensor: id=2209, shape=(), dtype=float64, numpy=10.4>)\n",
      "(<tf.Tensor: id=2212, shape=(11,), dtype=float64, numpy=\n",
      "array([ 14.   ,   8.   , 460.   , 215.   ,   3.   ,   5.424,  17.82 ,\n",
      "         0.   ,   0.   ,   3.   ,   4.   ])>, <tf.Tensor: id=2213, shape=(), dtype=float64, numpy=10.4>)\n",
      "(<tf.Tensor: id=2216, shape=(11,), dtype=float64, numpy=\n",
      "array([  3.   ,   8.   , 440.   , 230.   ,   3.23 ,   5.345,  17.42 ,\n",
      "         0.   ,   0.   ,   3.   ,   4.   ])>, <tf.Tensor: id=2217, shape=(), dtype=float64, numpy=14.7>)\n",
      "(<tf.Tensor: id=2220, shape=(11,), dtype=float64, numpy=\n",
      "array([ 8.  ,  4.  , 78.7 , 66.  ,  4.08,  2.2 , 19.47,  1.  ,  1.  ,\n",
      "        4.  ,  1.  ])>, <tf.Tensor: id=2221, shape=(), dtype=float64, numpy=32.4>)\n",
      "(<tf.Tensor: id=2224, shape=(11,), dtype=float64, numpy=\n",
      "array([11.   ,  4.   , 75.7  , 52.   ,  4.93 ,  1.615, 18.52 ,  1.   ,\n",
      "        1.   ,  4.   ,  2.   ])>, <tf.Tensor: id=2225, shape=(), dtype=float64, numpy=30.4>)\n",
      "(<tf.Tensor: id=2228, shape=(11,), dtype=float64, numpy=\n",
      "array([28.   ,  4.   , 71.1  , 65.   ,  4.22 ,  1.835, 19.9  ,  1.   ,\n",
      "        1.   ,  4.   ,  1.   ])>, <tf.Tensor: id=2229, shape=(), dtype=float64, numpy=33.9>)\n",
      "(<tf.Tensor: id=2232, shape=(11,), dtype=float64, numpy=\n",
      "array([ 29.   ,   4.   , 120.1  ,  97.   ,   3.7  ,   2.465,  20.01 ,\n",
      "         1.   ,   0.   ,   3.   ,   1.   ])>, <tf.Tensor: id=2233, shape=(), dtype=float64, numpy=21.5>)\n",
      "(<tf.Tensor: id=2236, shape=(11,), dtype=float64, numpy=\n",
      "array([  5.  ,   8.  , 318.  , 150.  ,   2.76,   3.52,  16.87,   0.  ,\n",
      "         0.  ,   3.  ,   2.  ])>, <tf.Tensor: id=2237, shape=(), dtype=float64, numpy=15.5>)\n",
      "(<tf.Tensor: id=2240, shape=(11,), dtype=float64, numpy=\n",
      "array([  0.   ,   8.   , 304.   , 150.   ,   3.15 ,   3.435,  17.3  ,\n",
      "         0.   ,   0.   ,   3.   ,   2.   ])>, <tf.Tensor: id=2241, shape=(), dtype=float64, numpy=15.2>)\n",
      "(<tf.Tensor: id=2244, shape=(11,), dtype=float64, numpy=\n",
      "array([  2.  ,   8.  , 350.  , 245.  ,   3.73,   3.84,  15.41,   0.  ,\n",
      "         0.  ,   3.  ,   4.  ])>, <tf.Tensor: id=2245, shape=(), dtype=float64, numpy=13.3>)\n",
      "(<tf.Tensor: id=2248, shape=(11,), dtype=float64, numpy=\n",
      "array([ 26.   ,   8.   , 400.   , 175.   ,   3.08 ,   3.845,  17.05 ,\n",
      "         0.   ,   0.   ,   3.   ,   2.   ])>, <tf.Tensor: id=2249, shape=(), dtype=float64, numpy=19.2>)\n",
      "(<tf.Tensor: id=2252, shape=(11,), dtype=float64, numpy=\n",
      "array([ 9.   ,  4.   , 79.   , 66.   ,  4.08 ,  1.935, 18.9  ,  1.   ,\n",
      "        1.   ,  4.   ,  1.   ])>, <tf.Tensor: id=2253, shape=(), dtype=float64, numpy=27.3>)\n",
      "(<tf.Tensor: id=2256, shape=(11,), dtype=float64, numpy=\n",
      "array([ 27.  ,   4.  , 120.3 ,  91.  ,   4.43,   2.14,  16.7 ,   0.  ,\n",
      "         1.  ,   5.  ,   2.  ])>, <tf.Tensor: id=2257, shape=(), dtype=float64, numpy=26.0>)\n",
      "(<tf.Tensor: id=2260, shape=(11,), dtype=float64, numpy=\n",
      "array([ 15.   ,   4.   ,  95.1  , 113.   ,   3.77 ,   1.513,  16.9  ,\n",
      "         1.   ,   1.   ,   5.   ,   2.   ])>, <tf.Tensor: id=2261, shape=(), dtype=float64, numpy=30.4>)\n",
      "(<tf.Tensor: id=2264, shape=(11,), dtype=float64, numpy=\n",
      "array([ 10.  ,   8.  , 351.  , 264.  ,   4.22,   3.17,  14.5 ,   0.  ,\n",
      "         1.  ,   5.  ,   4.  ])>, <tf.Tensor: id=2265, shape=(), dtype=float64, numpy=15.8>)\n",
      "(<tf.Tensor: id=2268, shape=(11,), dtype=float64, numpy=\n",
      "array([  7.  ,   6.  , 145.  , 175.  ,   3.62,   2.77,  15.5 ,   0.  ,\n",
      "         1.  ,   5.  ,   6.  ])>, <tf.Tensor: id=2269, shape=(), dtype=float64, numpy=19.7>)\n",
      "(<tf.Tensor: id=2272, shape=(11,), dtype=float64, numpy=\n",
      "array([ 16.  ,   8.  , 301.  , 335.  ,   3.54,   3.57,  14.6 ,   0.  ,\n",
      "         1.  ,   5.  ,   8.  ])>, <tf.Tensor: id=2273, shape=(), dtype=float64, numpy=15.0>)\n",
      "(<tf.Tensor: id=2276, shape=(11,), dtype=float64, numpy=\n",
      "array([ 31.  ,   4.  , 121.  , 109.  ,   4.11,   2.78,  18.6 ,   1.  ,\n",
      "         1.  ,   4.  ,   2.  ])>, <tf.Tensor: id=2277, shape=(), dtype=float64, numpy=21.4>)\n"
     ]
    }
   ],
   "source": [
    "for batch in tfe.Iterator(dataset):\n",
    "     print(batch)"
   ]
  },
  {
   "cell_type": "code",
   "execution_count": null,
   "metadata": {},
   "outputs": [],
   "source": []
  },
  {
   "cell_type": "code",
   "execution_count": 95,
   "metadata": {},
   "outputs": [],
   "source": [
    "# Make numpy values easier to read.\n",
    "np.set_printoptions(precision=3, suppress=True)"
   ]
  },
  {
   "cell_type": "code",
   "execution_count": 114,
   "metadata": {},
   "outputs": [],
   "source": [
    "def show_batch(dataset):\n",
    "  for batch in dataset.take(1):\n",
    "    for key, value in batch.items():\n",
    "      print(\"{:20s}: {}\".format(key,value))"
   ]
  },
  {
   "cell_type": "code",
   "execution_count": 115,
   "metadata": {},
   "outputs": [],
   "source": [
    "def get_dataset(file_path, **kwargs):\n",
    "  dataset = tf.data.experimental.make_csv_dataset(\n",
    "      file_path,\n",
    "      batch_size=5, # Artificially small to make examples easier to show.\n",
    "      column_names=[\"\",\"mpg\",\"cyl\",\"disp\",\"hp\",\"drat\",\"wt\",\"qsec\",\"vs\",\"am\",\"gear\",\"carb\"],\n",
    "      na_value=\"?\",\n",
    "      num_epochs=1, \n",
    "      **kwargs)\n",
    "  return dataset\n"
   ]
  },
  {
   "cell_type": "code",
   "execution_count": 116,
   "metadata": {},
   "outputs": [
    {
     "name": "stdout",
     "output_type": "stream",
     "text": [
      "\"\",\"mpg\",\"cyl\",\"disp\",\"hp\",\"drat\",\"wt\",\"qsec\",\"vs\",\"am\",\"gear\",\"carb\"\r\n",
      "\"Mazda RX4\",21,6,160,110,3.9,2.62,16.46,0,1,4,4\r\n",
      "\"Mazda RX4 Wag\",21,6,160,110,3.9,2.875,17.02,0,1,4,4\r\n",
      "\"Datsun 710\",22.8,4,108,93,3.85,2.32,18.61,1,1,4,1\r\n",
      "\"Hornet 4 Drive\",21.4,6,258,110,3.08,3.215,19.44,1,0,3,1\r\n",
      "\"Hornet Sportabout\",18.7,8,360,175,3.15,3.44,17.02,0,0,3,2\r\n",
      "\"Valiant\",18.1,6,225,105,2.76,3.46,20.22,1,0,3,1\r\n",
      "\"Duster 360\",14.3,8,360,245,3.21,3.57,15.84,0,0,3,4\r\n",
      "\"Merc 240D\",24.4,4,146.7,62,3.69,3.19,20,1,0,4,2\r\n",
      "\"Merc 230\",22.8,4,140.8,95,3.92,3.15,22.9,1,0,4,2\r\n"
     ]
    }
   ],
   "source": [
    "!head {test_file_path}"
   ]
  },
  {
   "cell_type": "code",
   "execution_count": 117,
   "metadata": {},
   "outputs": [
    {
     "name": "stdout",
     "output_type": "stream",
     "text": [
      "<DatasetV1Adapter shapes: OrderedDict([(, (?,)), (mpg, (?,)), (cyl, (?,)), (disp, (?,)), (hp, (?,)), (drat, (?,)), (wt, (?,)), (qsec, (?,)), (vs, (?,)), (am, (?,)), (gear, (?,)), (carb, (?,))]), types: OrderedDict([(, tf.string), (mpg, tf.float32), (cyl, tf.int32), (disp, tf.float32), (hp, tf.int32), (drat, tf.float32), (wt, tf.float32), (qsec, tf.float32), (vs, tf.int32), (am, tf.int32), (gear, tf.int32), (carb, tf.int32)])>\n",
      "                    : [b'Duster 360' b'Lotus Europa' b'Mazda RX4 Wag' b'Lincoln Continental'\n",
      " b'Ford Pantera L']\n",
      "mpg                 : [14.3 30.4 21.  10.4 15.8]\n",
      "cyl                 : [8 4 6 8 8]\n",
      "disp                : [360.   95.1 160.  460.  351. ]\n",
      "hp                  : [245 113 110 215 264]\n",
      "drat                : [3.21 3.77 3.9  3.   4.22]\n",
      "wt                  : [3.57  1.513 2.875 5.424 3.17 ]\n",
      "qsec                : [15.84 16.9  17.02 17.82 14.5 ]\n",
      "vs                  : [0 1 0 0 0]\n",
      "am                  : [0 1 1 0 1]\n",
      "gear                : [3 5 4 3 5]\n",
      "carb                : [4 2 4 4 4]\n"
     ]
    }
   ],
   "source": [
    "testdata=get_dataset(test_file_path)\n",
    "\n",
    "print(testdata.take(1))\n",
    "\n",
    "show_batch(testdata)"
   ]
  },
  {
   "cell_type": "code",
   "execution_count": null,
   "metadata": {},
   "outputs": [],
   "source": []
  },
  {
   "cell_type": "code",
   "execution_count": null,
   "metadata": {},
   "outputs": [],
   "source": []
  }
 ],
 "metadata": {
  "kernelspec": {
   "display_name": "Python 3",
   "language": "python",
   "name": "python3"
  },
  "language_info": {
   "codemirror_mode": {
    "name": "ipython",
    "version": 3
   },
   "file_extension": ".py",
   "mimetype": "text/x-python",
   "name": "python",
   "nbconvert_exporter": "python",
   "pygments_lexer": "ipython3",
   "version": "3.7.3"
  }
 },
 "nbformat": 4,
 "nbformat_minor": 2
}
