{
 "cells": [
  {
   "cell_type": "code",
   "execution_count": 58,
   "metadata": {},
   "outputs": [],
   "source": [
    "#from __future__ import absolute_import, division, print_function, unicode_literals\n",
    "#from __future__ import absolute_import, division, print_function\n",
    "import numpy as np\n",
    "import tensorflow as tf\n",
    "#import tensorflow.contrib.eager as tfe\n",
    "import pandas as pd\n",
    "import matplotlib.pyplot as plt\n",
    "rng = np.random"
   ]
  },
  {
   "cell_type": "code",
   "execution_count": 59,
   "metadata": {},
   "outputs": [],
   "source": [
    "#this section needed to enable iteration over tensor flow dataset\n",
    "\n",
    "# Set Eager API\n",
    "#print(\"Setting Eager mode...\")\n",
    "#tf.enable_eager_execution()\n",
    "#tfe = tf.contrib.eager"
   ]
  },
  {
   "cell_type": "code",
   "execution_count": 60,
   "metadata": {},
   "outputs": [],
   "source": [
    "# Parameters\n",
    "learning_rate = 0.000000001\n",
    "training_epochs = 25000\n",
    "display_step = 250"
   ]
  },
  {
   "cell_type": "code",
   "execution_count": 61,
   "metadata": {},
   "outputs": [],
   "source": [
    "test_file_path='../mtcars.csv'"
   ]
  },
  {
   "cell_type": "raw",
   "metadata": {},
   "source": [
    "Regression analysis\n",
    "ordinary least squares\n",
    "\n",
    "https://en.wikipedia.org/wiki/Ordinary_least_squares\n"
   ]
  },
  {
   "cell_type": "code",
   "execution_count": 62,
   "metadata": {},
   "outputs": [
    {
     "name": "stdout",
     "output_type": "stream",
     "text": [
      "4694\n",
      "642.9000000000001\n",
      "834278\n",
      "14042.31\n",
      "84362.70000000001\n"
     ]
    }
   ],
   "source": [
    "cars = pd.read_csv(test_file_path)\n",
    "yv=cars['mpg'].to_numpy()\n",
    "xv=cars['hp'].to_numpy()\n",
    "\n",
    "xvsq=cars['hp'].pow(2)\n",
    "yvsq=cars['mpg'].pow(2)\n",
    "\n",
    "xyv=cars['hp']*cars['mpg']\n",
    "\n",
    "sumxv=cars['hp'].sum()\n",
    "sumyv=cars['mpg'].sum()\n",
    "\n",
    "sumxvsq=xvsq.sum()\n",
    "sumyvsq=yvsq.sum()\n",
    "\n",
    "sumxy=xyv.sum()\n",
    "\n",
    "#print(xyv)\n",
    "\n",
    "#print(xvsq)\n",
    "#print(yvsq)\n",
    "\n",
    "print(sumxv)\n",
    "print(sumyv)\n",
    "\n",
    "print(sumxvsq)\n",
    "print(sumyvsq)\n",
    "\n",
    "print(sumxy)"
   ]
  },
  {
   "cell_type": "code",
   "execution_count": 63,
   "metadata": {},
   "outputs": [
    {
     "name": "stdout",
     "output_type": "stream",
     "text": [
      "-0.06822827807156372 21.461373749131514\n"
     ]
    }
   ],
   "source": [
    "beta=(sumxy-(sumxv*sumyv)/n_samples)/(sumxvsq-(sumxv*sumxv)/n_samples)\n",
    "\n",
    "alpha=(sumyv/n_samples)-beta*(sumyv/n_samples)\n",
    "\n",
    "print(beta,alpha)"
   ]
  },
  {
   "cell_type": "raw",
   "metadata": {},
   "source": [
    "Determine coefficient of determination"
   ]
  },
  {
   "cell_type": "code",
   "execution_count": 64,
   "metadata": {},
   "outputs": [
    {
     "name": "stdout",
     "output_type": "stream",
     "text": [
      "0.9994028018887333\n"
     ]
    }
   ],
   "source": [
    "ypredv=beta * xv + alpha+4.9\n",
    "\n",
    "\n",
    "\n",
    "#print(ypredv)\n",
    "\n",
    "top=(ypredv-(sumyv/n_samples))**2\n",
    "\n",
    "bot=(yv-(sumyv/n_samples))**2\n",
    "\n",
    "#print(top,bot)\n",
    "\n",
    "R=(top.sum())/(bot.sum())\n",
    "\n",
    "print(R)\n",
    "\n"
   ]
  },
  {
   "cell_type": "code",
   "execution_count": 65,
   "metadata": {},
   "outputs": [
    {
     "data": {
      "image/png": "[encoded data removed]",
      "text/plain": [
       "<Figure size 432x288 with 1 Axes>"
      ]
     },
     "metadata": {
      "needs_background": "light"
     },
     "output_type": "display_data"
    }
   ],
   "source": [
    "\n",
    "\n",
    "\n",
    "#Graphic display\n",
    "plt.plot(xv, yv, 'ro', label='Original data')\n",
    "plt.plot(xv, beta * xv + alpha+4.9, label='Fitted line')\n",
    "plt.legend()\n",
    "plt.show()"
   ]
  },
  {
   "cell_type": "code",
   "execution_count": 66,
   "metadata": {},
   "outputs": [],
   "source": [
    "n_samples = xv.shape[0]"
   ]
  },
  {
   "cell_type": "code",
   "execution_count": 67,
   "metadata": {},
   "outputs": [
    {
     "name": "stdout",
     "output_type": "stream",
     "text": [
      "32\n"
     ]
    }
   ],
   "source": [
    "print(n_samples)"
   ]
  },
  {
   "cell_type": "code",
   "execution_count": 68,
   "metadata": {},
   "outputs": [
    {
     "name": "stdout",
     "output_type": "stream",
     "text": [
      "32\n"
     ]
    }
   ],
   "source": [
    "print(np.size(xv))"
   ]
  },
  {
   "cell_type": "code",
   "execution_count": 78,
   "metadata": {},
   "outputs": [
    {
     "name": "stdout",
     "output_type": "stream",
     "text": [
      "<tf.Variable 'weight_7:0' shape=() dtype=float32_ref> <tf.Variable 'bias_7:0' shape=() dtype=float32_ref>\n",
      "<tf.Variable 'weight_8:0' shape=() dtype=float64_ref> <tf.Variable 'bias_8:0' shape=() dtype=float64_ref>\n"
     ]
    }
   ],
   "source": [
    "# tf Graph Input\n",
    "X = tf.placeholder(\"float64\")\n",
    "Y = tf.placeholder(\"float64\")\n",
    "\n",
    "# Set model weights\n",
    "W = tf.Variable(rng.randn(), name=\"weight\")\n",
    "b = tf.Variable(rng.randn(), name=\"bias\")\n",
    "print(W,b)\n",
    "W = tf.Variable(beta, name=\"weight\")\n",
    "b = tf.Variable(alpha+4.9, name=\"bias\")\n",
    "\n",
    "print(W,b)"
   ]
  },
  {
   "cell_type": "code",
   "execution_count": 79,
   "metadata": {},
   "outputs": [],
   "source": [
    "# Construct a linear model\n",
    "\n",
    "\n",
    "pred = tf.add(tf.multiply(X, W), b)\n",
    "\n",
    "#print(pred)\n",
    "#print(np.size(pred))\n",
    "#print(pred[0])"
   ]
  },
  {
   "cell_type": "code",
   "execution_count": 80,
   "metadata": {},
   "outputs": [
    {
     "name": "stdout",
     "output_type": "stream",
     "text": [
      "Tensor(\"truediv_2:0\", shape=(), dtype=float64)\n",
      "\n"
     ]
    }
   ],
   "source": [
    "# Mean squared error\n",
    "cost = tf.reduce_sum(tf.pow(pred-Y, 2))/(2*n_samples)\n",
    "\n",
    "print(tf.cast(cost,tf.float64))\n",
    "print()\n",
    "\n",
    "tf.print(cost,output_stream=\"file://test.out\")\n",
    "# Gradient descent\n",
    "optimizer = tf.train.GradientDescentOptimizer(learning_rate).minimize(cost)"
   ]
  },
  {
   "cell_type": "code",
   "execution_count": 81,
   "metadata": {},
   "outputs": [],
   "source": [
    "# Initialize the variables (i.e. assign their default value)\n",
    "init = tf.global_variables_initializer()"
   ]
  },
  {
   "cell_type": "code",
   "execution_count": 82,
   "metadata": {},
   "outputs": [
    {
     "name": "stdout",
     "output_type": "stream",
     "text": [
      "Tensor(\"strided_slice_1:0\", shape=(), dtype=int32)\n",
      "(10,)\n"
     ]
    }
   ],
   "source": [
    "tensor = tf.range(10)\n",
    "tf.print(\"tensors:\", tensor, {2: tensor * 2})\n",
    "print(tensor[1])\n",
    "print(tensor.shape)"
   ]
  },
  {
   "cell_type": "code",
   "execution_count": null,
   "metadata": {},
   "outputs": [],
   "source": []
  },
  {
   "cell_type": "code",
   "execution_count": 83,
   "metadata": {},
   "outputs": [
    {
     "name": "stdout",
     "output_type": "stream",
     "text": [
      "Epoch: 0250 cost= 13.904656349 W= -0.06809166266606774 b= 26.361374680998683\n",
      "Epoch: 0500 cost= 13.830964727 W= -0.06795593483111224 b= 26.36137560787219\n",
      "Epoch: 0750 cost= 13.758227517 W= -0.0678210888003192 b= 26.361376529784234\n",
      "Epoch: 1000 cost= 13.686432356 W= -0.06768711884477276 b= 26.361377446766944\n",
      "Epoch: 1250 cost= 13.615567044 W= -0.06755401927277602 b= 26.361378358852495\n",
      "Epoch: 1500 cost= 13.545619538 W= -0.06742178442961144 b= 26.36137926607246\n",
      "Epoch: 1750 cost= 13.476577951 W= -0.06729040869729822 b= 26.361380168458897\n",
      "Epoch: 2000 cost= 13.408430550 W= -0.06715988649435645 b= 26.36138106604274\n",
      "Epoch: 2250 cost= 13.341165755 W= -0.06703021227556465 b= 26.361381958855564\n",
      "Epoch: 2500 cost= 13.274772133 W= -0.06690138053173073 b= 26.361382846928233\n",
      "Epoch: 2750 cost= 13.209238403 W= -0.06677338578945279 b= 26.36138373029162\n",
      "Epoch: 3000 cost= 13.144553427 W= -0.06664622261088966 b= 26.361384608976085\n",
      "Epoch: 3250 cost= 13.080706213 W= -0.06651988559352848 b= 26.3613854830122\n",
      "Epoch: 3500 cost= 13.017685911 W= -0.06639436936995396 b= 26.3613863524301\n",
      "Epoch: 3750 cost= 12.955481810 W= -0.066269668607625 b= 26.361387217260017\n",
      "Epoch: 4000 cost= 12.894083341 W= -0.06614577800864255 b= 26.361388077531505\n",
      "Epoch: 4250 cost= 12.833480068 W= -0.06602269230952802 b= 26.361388933274192\n",
      "Epoch: 4500 cost= 12.773661693 W= -0.06590040628099807 b= 26.36138978451762\n",
      "Epoch: 4750 cost= 12.714618051 W= -0.06577891472774418 b= 26.361390631290927\n",
      "Epoch: 5000 cost= 12.656339107 W= -0.06565821248820931 b= 26.361391473623176\n",
      "Epoch: 5250 cost= 12.598814958 W= -0.06553829443437185 b= 26.36139231154319\n",
      "Epoch: 5500 cost= 12.542035828 W= -0.06541915547152412 b= 26.36139314507975\n",
      "Epoch: 5750 cost= 12.485992067 W= -0.06530079053805855 b= 26.361393974261215\n",
      "Epoch: 6000 cost= 12.430674152 W= -0.06518319460525267 b= 26.361394799115903\n",
      "Epoch: 6250 cost= 12.376072683 W= -0.06506636267705321 b= 26.36139561967192\n",
      "Epoch: 6500 cost= 12.322178379 W= -0.06495028978986686 b= 26.361396435957086\n",
      "Epoch: 6750 cost= 12.268982083 W= -0.06483497101234696 b= 26.361397247999612\n",
      "Epoch: 7000 cost= 12.216474753 W= -0.06472040144518393 b= 26.3613980558265\n",
      "Epoch: 7250 cost= 12.164647468 W= -0.06460657622089892 b= 26.36139885946534\n",
      "Epoch: 7500 cost= 12.113491419 W= -0.06449349050363709 b= 26.361399658943434\n",
      "Epoch: 7750 cost= 12.062997913 W= -0.06438113948896088 b= 26.361400454287754\n",
      "Epoch: 8000 cost= 12.013158369 W= -0.06426951840364548 b= 26.3614012455251\n",
      "Epoch: 8250 cost= 11.963964317 W= -0.06415862250547708 b= 26.361402032682182\n",
      "Epoch: 8500 cost= 11.915407398 W= -0.06404844708305149 b= 26.361402815785567\n",
      "Epoch: 8750 cost= 11.867479359 W= -0.06393898745557226 b= 26.361403594861535\n",
      "Epoch: 9000 cost= 11.820172056 W= -0.06383023897265647 b= 26.3614043699363\n",
      "Epoch: 9250 cost= 11.773477448 W= -0.06372219701412997 b= 26.361405141035682\n",
      "Epoch: 9500 cost= 11.727387602 W= -0.06361485698983792 b= 26.361405908185702\n",
      "Epoch: 9750 cost= 11.681894684 W= -0.06350821433944417 b= 26.361406671412045\n",
      "Epoch: 10000 cost= 11.636990964 W= -0.0634022645322439 b= 26.3614074307401\n",
      "Epoch: 10250 cost= 11.592668810 W= -0.06329700306696391 b= 26.36140818619527\n",
      "Epoch: 10500 cost= 11.548920690 W= -0.06319242547157666 b= 26.361408937802608\n",
      "Epoch: 10750 cost= 11.505739169 W= -0.06308852730310825 b= 26.361409685587226\n",
      "Epoch: 11000 cost= 11.463116911 W= -0.0629853041474498 b= 26.361410429573958\n",
      "Epoch: 11250 cost= 11.421046670 W= -0.06288275161917009 b= 26.361411169787303\n",
      "Epoch: 11500 cost= 11.379521298 W= -0.0627808653613298 b= 26.361411906251842\n",
      "Epoch: 11750 cost= 11.338533738 W= -0.06267964104529454 b= 26.36141263899206\n",
      "Epoch: 12000 cost= 11.298077025 W= -0.06257907437055343 b= 26.36141336803212\n",
      "Epoch: 12250 cost= 11.258144283 W= -0.06247916106453508 b= 26.3614140933959\n",
      "Epoch: 12500 cost= 11.218728725 W= -0.062379896882425276 b= 26.361414815107473\n",
      "Epoch: 12750 cost= 11.179823655 W= -0.062281277606988136 b= 26.361415533190474\n",
      "Epoch: 13000 cost= 11.141422460 W= -0.06218329904838674 b= 26.36141624766858\n",
      "Epoch: 13250 cost= 11.103518615 W= -0.062085957044004034 b= 26.361416958565076\n",
      "Epoch: 13500 cost= 11.066105677 W= -0.061989247458267394 b= 26.36141766590328\n",
      "Epoch: 13750 cost= 11.029177290 W= -0.06189316618247189 b= 26.361418369706296\n",
      "Epoch: 14000 cost= 10.992727176 W= -0.0617977091346059 b= 26.361419069997112\n",
      "Epoch: 14250 cost= 10.956749143 W= -0.061702872259178164 b= 26.36141976679859\n",
      "Epoch: 14500 cost= 10.921237076 W= -0.061608651527044984 b= 26.361420460133292\n",
      "Epoch: 14750 cost= 10.886184940 W= -0.06151504293523982 b= 26.361421150023784\n",
      "Epoch: 15000 cost= 10.851586779 W= -0.06142204250680128 b= 26.36142183649245\n",
      "Epoch: 15250 cost= 10.817436711 W= -0.061329646290606867 b= 26.361422519561536\n",
      "Epoch: 15500 cost= 10.783728936 W= -0.06123785036120387 b= 26.361423199253075\n",
      "Epoch: 15750 cost= 10.750457723 W= -0.06114665081864172 b= 26.3614238755891\n",
      "Epoch: 16000 cost= 10.717617418 W= -0.061056043788306744 b= 26.361424548591366\n",
      "Epoch: 16250 cost= 10.685202442 W= -0.060966025420759414 b= 26.361425218281504\n",
      "Epoch: 16500 cost= 10.653207285 W= -0.060876591891567876 b= 26.361425884681154\n",
      "Epoch: 16750 cost= 10.621626510 W= -0.060787739401147275 b= 26.36142654781153\n",
      "Epoch: 17000 cost= 10.590454751 W= -0.06069946417459844 b= 26.36142720769393\n",
      "Epoch: 17250 cost= 10.559686709 W= -0.06061176246154647 b= 26.361427864349494\n",
      "Epoch: 17500 cost= 10.529317156 W= -0.060524630535981894 b= 26.36142851779912\n",
      "Epoch: 17750 cost= 10.499340932 W= -0.060438064696103536 b= 26.361429168063715\n",
      "Epoch: 18000 cost= 10.469752941 W= -0.06035206126415878 b= 26.361429815163934\n",
      "Epoch: 18250 cost= 10.440548156 W= -0.06026661658628861 b= 26.361430459120303\n",
      "Epoch: 18500 cost= 10.411721614 W= -0.060181727032373636 b= 26.36143109995338\n",
      "Epoch: 18750 cost= 10.383268416 W= -0.06009738899587764 b= 26.36143173768325\n",
      "Epoch: 19000 cost= 10.355183727 W= -0.06001359889369625 b= 26.3614323723302\n",
      "Epoch: 19250 cost= 10.327462773 W= -0.05993035316600269 b= 26.36143300391434\n",
      "Epoch: 19500 cost= 10.300100844 W= -0.059847648276098724 b= 26.361433632455388\n",
      "Epoch: 19750 cost= 10.273093291 W= -0.059765480710262935 b= 26.361434257973176\n",
      "Epoch: 20000 cost= 10.246435523 W= -0.059683846977602116 b= 26.361434880487455\n",
      "Epoch: 20250 cost= 10.220123010 W= -0.05960274360990238 b= 26.361435500017716\n",
      "Epoch: 20500 cost= 10.194151281 W= -0.05952216716148273 b= 26.361436116583143\n",
      "Epoch: 20750 cost= 10.168515922 W= -0.05944211420904728 b= 26.361436730203142\n",
      "Epoch: 21000 cost= 10.143212577 W= -0.059362581351541745 b= 26.3614373408968\n",
      "Epoch: 21250 cost= 10.118236945 W= -0.059283565210006904 b= 26.36143794868335\n",
      "Epoch: 21500 cost= 10.093584782 W= -0.05920506242743664 b= 26.3614385535813\n",
      "Epoch: 21750 cost= 10.069251899 W= -0.059127069668634076 b= 26.361439155609713\n",
      "Epoch: 22000 cost= 10.045234160 W= -0.059049583620071316 b= 26.36143975478705\n",
      "Epoch: 22250 cost= 10.021527485 W= -0.058972600989746396 b= 26.36144035113188\n",
      "Epoch: 22500 cost= 9.998127844 W= -0.058896118507046305 b= 26.361440944662704\n",
      "Epoch: 22750 cost= 9.975031261 W= -0.05882013292260617 b= 26.36144153539774\n",
      "Epoch: 23000 cost= 9.952233810 W= -0.05874464100817128 b= 26.3614421233552\n",
      "Epoch: 23250 cost= 9.929731619 W= -0.05866963955646086 b= 26.36144270855301\n",
      "Epoch: 23500 cost= 9.907520861 W= -0.05859512538103057 b= 26.361443291009195\n",
      "Epoch: 23750 cost= 9.885597764 W= -0.05852109531613853 b= 26.36144387074158\n",
      "Epoch: 24000 cost= 9.863958602 W= -0.058447546216608894 b= 26.361444447767813\n",
      "Epoch: 24250 cost= 9.842599696 W= -0.058374474957701185 b= 26.36144502210545\n",
      "Epoch: 24500 cost= 9.821517418 W= -0.058301878434974114 b= 26.361445593772\n",
      "Epoch: 24750 cost= 9.800708184 W= -0.05822975356415624 b= 26.36144616278485\n",
      "Epoch: 25000 cost= 9.780168459 W= -0.058158097281014176 b= 26.36144672916111\n",
      "Optimization Finished!\n",
      "Training cost= 9.780168459169012 W= -0.058158097281014176 b= 26.36144672916111 \n",
      "\n"
     ]
    },
    {
     "data": {
      "image/png": "[encoded data removed]",
      "text/plain": [
       "<Figure size 432x288 with 1 Axes>"
      ]
     },
     "metadata": {
      "needs_background": "light"
     },
     "output_type": "display_data"
    }
   ],
   "source": [
    "# Start training\n",
    "with tf.Session() as sess:\n",
    "    sess.run(init)\n",
    "\n",
    "    # Fit all training data\n",
    "    for epoch in range(training_epochs):\n",
    "        for (x, y) in zip(xv, yv):\n",
    "            sess.run(optimizer, feed_dict={X: x, Y: y})\n",
    "\n",
    "        #Display logs per epoch step\n",
    "        if (epoch+1) % display_step == 0:\n",
    "            c = sess.run(cost, feed_dict={X: xv, Y:yv})\n",
    "            print(\"Epoch:\", '%04d' % (epoch+1), \"cost=\", \"{:.9f}\".format(c), \\\n",
    "                \"W=\", sess.run(W), \"b=\", sess.run(b))\n",
    "\n",
    "    print(\"Optimization Finished!\")\n",
    "    training_cost = sess.run(cost, feed_dict={X: xv, Y: yv})\n",
    "    print(\"Training cost=\", training_cost, \"W=\", sess.run(W), \"b=\", sess.run(b), '\\n')\n",
    "\n",
    "    #Graphic display\n",
    "    plt.plot(xv, yv, 'ro', label='Original data')\n",
    "    plt.plot(xv, sess.run(W) * xv + sess.run(b), label='Fitted line')\n",
    "    plt.legend()\n",
    "    plt.show()"
   ]
  },
  {
   "cell_type": "code",
   "execution_count": 86,
   "metadata": {},
   "outputs": [
    {
     "name": "stdout",
     "output_type": "stream",
     "text": [
      "-0.058158097 26.36144673\n"
     ]
    },
    {
     "data": {
      "image/png": "[encoded data removed]",
      "text/plain": [
       "<Figure size 432x288 with 1 Axes>"
      ]
     },
     "metadata": {
      "needs_background": "light"
     },
     "output_type": "display_data"
    }
   ],
   "source": [
    "#Graphic display\n",
    "\n",
    "beta=-0.058158097\n",
    "alpha=26.36144673\n",
    "\n",
    "print(beta,alpha)\n",
    "\n",
    "plt.plot(xv, yv, 'ro', label='Original data')\n",
    "plt.plot(xv, beta * xv + alpha+4.9, label='Fitted line')\n",
    "plt.legend()\n",
    "plt.show()"
   ]
  },
  {
   "cell_type": "code",
   "execution_count": null,
   "metadata": {},
   "outputs": [],
   "source": []
  }
 ],
 "metadata": {
  "kernelspec": {
   "display_name": "Python 3",
   "language": "python",
   "name": "python3"
  },
  "language_info": {
   "codemirror_mode": {
    "name": "ipython",
    "version": 3
   },
   "file_extension": ".py",
   "mimetype": "text/x-python",
   "name": "python",
   "nbconvert_exporter": "python",
   "pygments_lexer": "ipython3",
   "version": "3.7.3"
  }
 },
 "nbformat": 4,
 "nbformat_minor": 2
}
