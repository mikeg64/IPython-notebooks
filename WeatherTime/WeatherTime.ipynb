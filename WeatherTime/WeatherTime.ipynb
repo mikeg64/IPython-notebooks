{
 "cells": [
  {
   "cell_type": "markdown",
   "metadata": {},
   "source": [
    "## Introduction"
   ]
  },
  {
   "cell_type": "markdown",
   "metadata": {},
   "source": [
    "I am currently building a data lake which will be used to improve operations at an energy company using machine learning. Among the many interesting topics the following are prioritized:\n",
    "- Can we predict the energy production of hydroelectric, solar and wind power plants? \n",
    "- Can we predict the energy consumption using weather reports? After all, home owners need to heat their homes more on a cold winter day than on a sunny day in October.\n",
    "- Under what conditions to equipment fail? Can we predict the need for maintenance and optimize scheduled down time?\n",
    "\n",
    "Hence, getting access to weather data is necessary. In today's post I want to share what I did yesterday to \n",
    "- import weather data from an external service provider\n",
    "- deal with time stamps.\n",
    "\n",
    "I intend to follow up this post with the subsequent steps in building the data lake, the predictive analytics and the delivery of these insights as a service."
   ]
  },
  {
   "cell_type": "markdown",
   "metadata": {},
   "source": [
    "## Getting weather data"
   ]
  },
  {
   "cell_type": "markdown",
   "metadata": {},
   "source": [
    "There are multiple ways to get access to weather data, but my preferred method is using an API designed for this purpose. My favourite provider is Weather Underground, https://www.wunderground.com/. They have both free and paid options, but no matter what you opt for, you do need to register to get an API key.\n",
    "\n",
    "After importing some libraries that we will use we query the API with the longitude and latitude of the location of interest."
   ]
  },
  {
   "cell_type": "code",
   "execution_count": 3,
   "metadata": {
    "collapsed": true
   },
   "outputs": [],
   "source": [
    "import urllib2\n",
    "import json\n",
    "import time\n",
    "import os\n",
    "\n",
    "f = urllib2.urlopen('http://api.wunderground.com/api/'+apikey+'/geolookup/conditions/forecast/q/46.94809341,7.44744301.json')\n",
    "json_string = f.read()"
   ]
  },
  {
   "cell_type": "markdown",
   "metadata": {},
   "source": [
    "It is also possible to query by city name, for example for Bern, the capital of Switzerland (CH):"
   ]
  },
  {
   "cell_type": "code",
   "execution_count": null,
   "metadata": {
    "collapsed": true
   },
   "outputs": [],
   "source": [
    "f = urllib2.urlopen('http://api.wunderground.com/api/'+apikey+'/geolookup/conditions/q/CH/Bern.json')"
   ]
  },
  {
   "cell_type": "markdown",
   "metadata": {},
   "source": [
    "I sometimes am interested in writing the raw data I get back from the API:"
   ]
  },
  {
   "cell_type": "code",
   "execution_count": 4,
   "metadata": {
    "collapsed": true
   },
   "outputs": [],
   "source": [
    "with open('weather.json', 'w') as file:\n",
    "  file.write(json_string)\n",
    "file.close()"
   ]
  },
  {
   "cell_type": "markdown",
   "metadata": {},
   "source": [
    "However, we might want to extract specific fields of the JSON document the API returned. Fortunately, parsing the JSON document is trivial in python."
   ]
  },
  {
   "cell_type": "code",
   "execution_count": 5,
   "metadata": {
    "collapsed": false
   },
   "outputs": [
    {
     "name": "stdout",
     "output_type": "stream",
     "text": [
      "Current temperature in Berne is: 20.9\n"
     ]
    }
   ],
   "source": [
    "parsed_json = json.loads(json_string)\n",
    "location = parsed_json['location']['city']\n",
    "temp_c = parsed_json['current_observation']['temp_c']\n",
    "print \"Current temperature in %s is: %s\" % (location, temp_c)"
   ]
  },
  {
   "cell_type": "markdown",
   "metadata": {},
   "source": [
    "## Time information"
   ]
  },
  {
   "cell_type": "markdown",
   "metadata": {},
   "source": [
    "To blend this weather data with the data from the sensor data from the power plants, we have to make sure we take the data from the correct time window. We can get the time of the last observation just like we got the temperature above."
   ]
  },
  {
   "cell_type": "code",
   "execution_count": 6,
   "metadata": {
    "collapsed": false
   },
   "outputs": [
    {
     "name": "stdout",
     "output_type": "stream",
     "text": [
      "Last Updated on August 20, 2:20 PM CEST\n"
     ]
    }
   ],
   "source": [
    "print parsed_json['current_observation']['observation_time']"
   ]
  },
  {
   "cell_type": "markdown",
   "metadata": {},
   "source": [
    "While this \"pretty print\" is human readible, it is harder for something like Hive or SQL to interpret. For this purpose, it is good practice to make use of the time epoch."
   ]
  },
  {
   "cell_type": "code",
   "execution_count": 7,
   "metadata": {
    "collapsed": false
   },
   "outputs": [
    {
     "name": "stdout",
     "output_type": "stream",
     "text": [
      "1471695656\n"
     ]
    }
   ],
   "source": [
    "obs_time = parsed_json['current_observation']['observation_epoch']\n",
    "print obs_time"
   ]
  },
  {
   "cell_type": "markdown",
   "metadata": {},
   "source": [
    "This value can be used to extract things like the year, month, day etc, which makes it easier to define in which user defined time window the observation belongs to."
   ]
  },
  {
   "cell_type": "code",
   "execution_count": 8,
   "metadata": {
    "collapsed": false
   },
   "outputs": [
    {
     "name": "stdout",
     "output_type": "stream",
     "text": [
      "Observation time 2016-08-20 14:20:56 CEST\n"
     ]
    }
   ],
   "source": [
    "print \"Observation time\", time.strftime('%Y-%m-%d %H:%M:%S %Z', time.localtime(float(obs_time)))"
   ]
  },
  {
   "cell_type": "markdown",
   "metadata": {},
   "source": [
    "Now, since I am running this as a script on an R-server edge node on the Azure cloud, the time zone of the node and the observation point can be different. To ensure that the correct time zone is used, we can prepend the previous command with this: "
   ]
  },
  {
   "cell_type": "code",
   "execution_count": 9,
   "metadata": {
    "collapsed": true
   },
   "outputs": [],
   "source": [
    "os.environ['TZ'] = 'Europe/Zurich'\n",
    "time.tzset()"
   ]
  },
  {
   "cell_type": "markdown",
   "metadata": {},
   "source": [
    "## Conclusion\n",
    "This mini tutorial has shown how to query and access weather data, and how to deal with the time and time zone of the measurement. With this we are ready to start blending this data with other data that is stored on the data lake. The next steps will be included in a future blog post."
   ]
  }
 ],
 "metadata": {
  "kernelspec": {
   "display_name": "Python 2",
   "language": "python",
   "name": "python2"
  },
  "language_info": {
   "codemirror_mode": {
    "name": "ipython",
    "version": 2
   },
   "file_extension": ".py",
   "mimetype": "text/x-python",
   "name": "python",
   "nbconvert_exporter": "python",
   "pygments_lexer": "ipython2",
   "version": "2.7.11"
  }
 },
 "nbformat": 4,
 "nbformat_minor": 0
}
